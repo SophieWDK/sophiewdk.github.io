{
 "cells": [
  {
   "cell_type": "markdown",
   "metadata": {},
   "source": [
    "## Imports"
   ]
  },
  {
   "cell_type": "code",
   "execution_count": 2,
   "metadata": {},
   "outputs": [],
   "source": [
    "import pandas as pd # data processing, CSV file I/O\n",
    "import matplotlib.pyplot as plt # data visualization\n",
    "import matplotlib.cm as cm # Creating color bar\n",
    "import matplotlib.colors as mcolors # Creating color bar\n",
    "import seaborn as sns # data visualization\n",
    "import folium\n",
    "from folium.plugins import HeatMap, HeatMapWithTime\n",
    "import warnings # ignore warnings\n",
    "warnings.filterwarnings('ignore', category=FutureWarning)\n",
    "import calplot\n",
    "import numpy as np; np.random.seed(sum(map(ord, 'calplot')))\n",
    "import scipy.stats as stats"
   ]
  },
  {
   "cell_type": "markdown",
   "metadata": {},
   "source": [
    "## Loading data"
   ]
  },
  {
   "cell_type": "code",
   "execution_count": 14,
   "metadata": {},
   "outputs": [
    {
     "data": {
      "application/vnd.microsoft.datawrangler.viewer.v0+json": {
       "columns": [
        {
         "name": "index",
         "rawType": "int64",
         "type": "integer"
        },
        {
         "name": "Category",
         "rawType": "object",
         "type": "string"
        },
        {
         "name": "PdDistrict",
         "rawType": "object",
         "type": "string"
        },
        {
         "name": "Longitude",
         "rawType": "float64",
         "type": "float"
        },
        {
         "name": "Latitude",
         "rawType": "float64",
         "type": "float"
        },
        {
         "name": "TimeOfDay",
         "rawType": "int64",
         "type": "integer"
        },
        {
         "name": "DayOfWeek",
         "rawType": "object",
         "type": "string"
        },
        {
         "name": "DayOfMonth",
         "rawType": "int64",
         "type": "integer"
        },
        {
         "name": "Month",
         "rawType": "object",
         "type": "string"
        },
        {
         "name": "Year",
         "rawType": "int64",
         "type": "integer"
        }
       ],
       "conversionMethod": "pd.DataFrame",
       "ref": "3686ede0-7b08-49eb-896a-463f8c0a1cee",
       "rows": [
        [
         "0",
         "ROBBERY",
         "INGLESIDE",
         "-122.420084075249",
         "37.7083109744362",
         "17",
         "Monday",
         "22",
         "November",
         "2004"
        ],
        [
         "1",
         "VEHICLE THEFT",
         "PARK",
         "-120.5",
         "90.0",
         "20",
         "Tuesday",
         "18",
         "October",
         "2005"
        ],
        [
         "2",
         "VEHICLE THEFT",
         "SOUTHERN",
         "-120.5",
         "90.0",
         "2",
         "Sunday",
         "15",
         "February",
         "2004"
        ],
        [
         "3",
         "ASSAULT",
         "SOUTHERN",
         "-122.410541166987",
         "37.7709130566165",
         "17",
         "Sunday",
         "21",
         "November",
         "2010"
        ],
        [
         "4",
         "ASSAULT",
         "TARAVAL",
         "-122.470365997562",
         "37.74515794927",
         "15",
         "Tuesday",
         "2",
         "April",
         "2013"
        ]
       ],
       "shape": {
        "columns": 9,
        "rows": 5
       }
      },
      "text/html": [
       "<div>\n",
       "<style scoped>\n",
       "    .dataframe tbody tr th:only-of-type {\n",
       "        vertical-align: middle;\n",
       "    }\n",
       "\n",
       "    .dataframe tbody tr th {\n",
       "        vertical-align: top;\n",
       "    }\n",
       "\n",
       "    .dataframe thead th {\n",
       "        text-align: right;\n",
       "    }\n",
       "</style>\n",
       "<table border=\"1\" class=\"dataframe\">\n",
       "  <thead>\n",
       "    <tr style=\"text-align: right;\">\n",
       "      <th></th>\n",
       "      <th>Category</th>\n",
       "      <th>PdDistrict</th>\n",
       "      <th>Longitude</th>\n",
       "      <th>Latitude</th>\n",
       "      <th>TimeOfDay</th>\n",
       "      <th>DayOfWeek</th>\n",
       "      <th>DayOfMonth</th>\n",
       "      <th>Month</th>\n",
       "      <th>Year</th>\n",
       "    </tr>\n",
       "  </thead>\n",
       "  <tbody>\n",
       "    <tr>\n",
       "      <th>0</th>\n",
       "      <td>ROBBERY</td>\n",
       "      <td>INGLESIDE</td>\n",
       "      <td>-122.420084</td>\n",
       "      <td>37.708311</td>\n",
       "      <td>17</td>\n",
       "      <td>Monday</td>\n",
       "      <td>22</td>\n",
       "      <td>November</td>\n",
       "      <td>2004</td>\n",
       "    </tr>\n",
       "    <tr>\n",
       "      <th>1</th>\n",
       "      <td>VEHICLE THEFT</td>\n",
       "      <td>PARK</td>\n",
       "      <td>-120.500000</td>\n",
       "      <td>90.000000</td>\n",
       "      <td>20</td>\n",
       "      <td>Tuesday</td>\n",
       "      <td>18</td>\n",
       "      <td>October</td>\n",
       "      <td>2005</td>\n",
       "    </tr>\n",
       "    <tr>\n",
       "      <th>2</th>\n",
       "      <td>VEHICLE THEFT</td>\n",
       "      <td>SOUTHERN</td>\n",
       "      <td>-120.500000</td>\n",
       "      <td>90.000000</td>\n",
       "      <td>2</td>\n",
       "      <td>Sunday</td>\n",
       "      <td>15</td>\n",
       "      <td>February</td>\n",
       "      <td>2004</td>\n",
       "    </tr>\n",
       "    <tr>\n",
       "      <th>3</th>\n",
       "      <td>ASSAULT</td>\n",
       "      <td>SOUTHERN</td>\n",
       "      <td>-122.410541</td>\n",
       "      <td>37.770913</td>\n",
       "      <td>17</td>\n",
       "      <td>Sunday</td>\n",
       "      <td>21</td>\n",
       "      <td>November</td>\n",
       "      <td>2010</td>\n",
       "    </tr>\n",
       "    <tr>\n",
       "      <th>4</th>\n",
       "      <td>ASSAULT</td>\n",
       "      <td>TARAVAL</td>\n",
       "      <td>-122.470366</td>\n",
       "      <td>37.745158</td>\n",
       "      <td>15</td>\n",
       "      <td>Tuesday</td>\n",
       "      <td>2</td>\n",
       "      <td>April</td>\n",
       "      <td>2013</td>\n",
       "    </tr>\n",
       "  </tbody>\n",
       "</table>\n",
       "</div>"
      ],
      "text/plain": [
       "        Category PdDistrict   Longitude   Latitude  TimeOfDay DayOfWeek  \\\n",
       "0        ROBBERY  INGLESIDE -122.420084  37.708311         17    Monday   \n",
       "1  VEHICLE THEFT       PARK -120.500000  90.000000         20   Tuesday   \n",
       "2  VEHICLE THEFT   SOUTHERN -120.500000  90.000000          2    Sunday   \n",
       "3        ASSAULT   SOUTHERN -122.410541  37.770913         17    Sunday   \n",
       "4        ASSAULT    TARAVAL -122.470366  37.745158         15   Tuesday   \n",
       "\n",
       "   DayOfMonth     Month  Year  \n",
       "0          22  November  2004  \n",
       "1          18   October  2005  \n",
       "2          15  February  2004  \n",
       "3          21  November  2010  \n",
       "4           2     April  2013  "
      ]
     },
     "execution_count": 14,
     "metadata": {},
     "output_type": "execute_result"
    }
   ],
   "source": [
    "# Specify the full path to the CSV file\n",
    "#file_path = r\"C:\\Users\\poltr\\OneDrive - udl.cat\\Desktop\\Police_Department_Incident_Reports_Historical_2003_to_Feb_2025_20250204.csv\"\n",
    "file_path = r\"C:/Users/clara/OneDrive/Skrivebord/DTU/Human Centeret Artificial Intelligence/2. semester/02806_Social_Data_Analysis_and_Visualization/Police_Department_Incident_Reports_Historical_2003_to_Feb_2025_20250204.csv\"\n",
    "#file_path = r\"C:\\Users\\Bruger\\OneDrive - Danmarks Tekniske Universitet\\Kandidat\\Social Data Analysis and Visualization\\Police_Department_Incident_Reports_Historical_2003_to_Feb_2025_20250204.csv\"\n",
    "\n",
    "# Read data from the specified file\n",
    "df = pd.read_csv(file_path)\n",
    "\n",
    "# Preview the first 5 lines of the loaded data\n",
    "df.head()"
   ]
  },
  {
   "cell_type": "markdown",
   "metadata": {},
   "source": [
    "### Creating heatmap"
   ]
  },
  {
   "cell_type": "code",
   "execution_count": 15,
   "metadata": {},
   "outputs": [
    {
     "data": {
      "image/png": "[encoded data removed]",
      "text/plain": [
       "<Figure size 1000x600 with 2 Axes>"
      ]
     },
     "metadata": {},
     "output_type": "display_data"
    }
   ],
   "source": [
    "# Preview the first 5 lines of the loaded data\n",
    "focuscrimes = set(['ROBBERY', 'VEHICLE THEFT', 'ASSAULT', 'BURGLARY', 'LARCENY/THEFT', 'DRUG/NARCOTIC', 'VANDALISM', 'WEAPON LAWS', 'PROSTITUTION', 'STOLEN PROPERTY'])\n",
    "\n",
    "# Filter data for \"Larceny Theft\"\n",
    "df_larceny = df[df['Category'] == 'LARCENY/THEFT']\n",
    "\n",
    "# Group by the desired geographic unit (e.g., 'PdDistrict') and count occurrences\n",
    "heatmap_data = df_larceny.groupby('PdDistrict').size().reset_index(name='Count')\n",
    "\n",
    "# Set index for heatmap\n",
    "heatmap_data.set_index('PdDistrict', inplace=True)\n",
    "\n",
    "# Normalize data\n",
    "normalized_data = (heatmap_data - heatmap_data.min()) / (heatmap_data.max() - heatmap_data.min())\n",
    "\n",
    "# Create heatmap\n",
    "plt.figure(figsize=(10, 6))\n",
    "cmap = sns.color_palette(\"viridis\", as_cmap=True)\n",
    "sns.heatmap(normalized_data, annot=True, cmap=cmap, linewidths=0.5, linecolor='gray')\n",
    "\n",
    "# Titles and labels\n",
    "plt.title(\"Heatmap of Larceny Theft Incidents by Borough\")\n",
    "plt.xlabel(\"Crime Type\")\n",
    "plt.ylabel(\"Borough\")\n",
    "\n",
    "# Show plot\n",
    "plt.show()\n"
   ]
  },
  {
   "cell_type": "code",
   "execution_count": 12,
   "metadata": {},
   "outputs": [
    {
     "data": {
      "text/plain": [
       "<Figure size 640x480 with 0 Axes>"
      ]
     },
     "metadata": {},
     "output_type": "display_data"
    }
   ],
   "source": [
    "import os\n",
    "\n",
    "# Ensure the directory \"Figure\" exists\n",
    "output_dir = os.path.join(os.getcwd(), \"Figure\")\n",
    "os.makedirs(output_dir, exist_ok=True)\n",
    "\n",
    "# Save the image in the folder \"Figure\"\n",
    "plt.savefig(os.path.join(output_dir, \"heatmap.png\"), dpi=300, bbox_inches='tight')"
   ]
  }
 ],
 "metadata": {
  "kernelspec": {
   "display_name": "Python 3",
   "language": "python",
   "name": "python3"
  },
  "language_info": {
   "codemirror_mode": {
    "name": "ipython",
    "version": 3
   },
   "file_extension": ".py",
   "mimetype": "text/x-python",
   "name": "python",
   "nbconvert_exporter": "python",
   "pygments_lexer": "ipython3",
   "version": "3.13.0"
  }
 },
 "nbformat": 4,
 "nbformat_minor": 2
}
